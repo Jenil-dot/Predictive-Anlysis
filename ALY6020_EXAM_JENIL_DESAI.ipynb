{
 "cells": [
  {
   "cell_type": "code",
   "execution_count": 1,
   "id": "8abaf61c",
   "metadata": {},
   "outputs": [],
   "source": [
    "#library\n",
    "import pandas as pd\n",
    "import matplotlib.pyplot as plt\n",
    "import seaborn as sns\n",
    "import datetime"
   ]
  },
  {
   "cell_type": "code",
   "execution_count": 2,
   "id": "a71b8f47",
   "metadata": {},
   "outputs": [
    {
     "data": {
      "text/html": [
       "<div>\n",
       "<style scoped>\n",
       "    .dataframe tbody tr th:only-of-type {\n",
       "        vertical-align: middle;\n",
       "    }\n",
       "\n",
       "    .dataframe tbody tr th {\n",
       "        vertical-align: top;\n",
       "    }\n",
       "\n",
       "    .dataframe thead th {\n",
       "        text-align: right;\n",
       "    }\n",
       "</style>\n",
       "<table border=\"1\" class=\"dataframe\">\n",
       "  <thead>\n",
       "    <tr style=\"text-align: right;\">\n",
       "      <th></th>\n",
       "      <th>ID</th>\n",
       "      <th>AGE</th>\n",
       "      <th>GENDER</th>\n",
       "      <th>DRIVING_EXPERIENCE</th>\n",
       "      <th>EDUCATION</th>\n",
       "      <th>INCOME</th>\n",
       "      <th>CREDIT_SCORE</th>\n",
       "      <th>VEHICLE_OWNERSHIP</th>\n",
       "      <th>MARRIED</th>\n",
       "      <th>CHILDREN</th>\n",
       "      <th>POSTAL_CODE</th>\n",
       "      <th>ANNUAL_MILEAGE</th>\n",
       "      <th>VEHICLE_TYPE</th>\n",
       "      <th>SPEEDING_VIOLATIONS</th>\n",
       "      <th>DUIS</th>\n",
       "      <th>PAST_ACCIDENTS</th>\n",
       "      <th>OUTCOME</th>\n",
       "    </tr>\n",
       "  </thead>\n",
       "  <tbody>\n",
       "    <tr>\n",
       "      <th>0</th>\n",
       "      <td>569520</td>\n",
       "      <td>65+</td>\n",
       "      <td>female</td>\n",
       "      <td>0-9y</td>\n",
       "      <td>high school</td>\n",
       "      <td>upper class</td>\n",
       "      <td>0.629027</td>\n",
       "      <td>1</td>\n",
       "      <td>0</td>\n",
       "      <td>1</td>\n",
       "      <td>10238</td>\n",
       "      <td>12000.0</td>\n",
       "      <td>sedan</td>\n",
       "      <td>0</td>\n",
       "      <td>0</td>\n",
       "      <td>0</td>\n",
       "      <td>0</td>\n",
       "    </tr>\n",
       "    <tr>\n",
       "      <th>1</th>\n",
       "      <td>750365</td>\n",
       "      <td>16-25</td>\n",
       "      <td>male</td>\n",
       "      <td>0-9y</td>\n",
       "      <td>none</td>\n",
       "      <td>poverty</td>\n",
       "      <td>0.357757</td>\n",
       "      <td>0</td>\n",
       "      <td>0</td>\n",
       "      <td>0</td>\n",
       "      <td>10238</td>\n",
       "      <td>16000.0</td>\n",
       "      <td>sedan</td>\n",
       "      <td>0</td>\n",
       "      <td>0</td>\n",
       "      <td>0</td>\n",
       "      <td>1</td>\n",
       "    </tr>\n",
       "    <tr>\n",
       "      <th>2</th>\n",
       "      <td>199901</td>\n",
       "      <td>16-25</td>\n",
       "      <td>female</td>\n",
       "      <td>0-9y</td>\n",
       "      <td>high school</td>\n",
       "      <td>working class</td>\n",
       "      <td>0.493146</td>\n",
       "      <td>1</td>\n",
       "      <td>0</td>\n",
       "      <td>0</td>\n",
       "      <td>10238</td>\n",
       "      <td>11000.0</td>\n",
       "      <td>sedan</td>\n",
       "      <td>0</td>\n",
       "      <td>0</td>\n",
       "      <td>0</td>\n",
       "      <td>0</td>\n",
       "    </tr>\n",
       "    <tr>\n",
       "      <th>3</th>\n",
       "      <td>478866</td>\n",
       "      <td>16-25</td>\n",
       "      <td>male</td>\n",
       "      <td>0-9y</td>\n",
       "      <td>university</td>\n",
       "      <td>working class</td>\n",
       "      <td>0.206013</td>\n",
       "      <td>1</td>\n",
       "      <td>0</td>\n",
       "      <td>1</td>\n",
       "      <td>32765</td>\n",
       "      <td>11000.0</td>\n",
       "      <td>sedan</td>\n",
       "      <td>0</td>\n",
       "      <td>0</td>\n",
       "      <td>0</td>\n",
       "      <td>0</td>\n",
       "    </tr>\n",
       "    <tr>\n",
       "      <th>4</th>\n",
       "      <td>731664</td>\n",
       "      <td>26-39</td>\n",
       "      <td>male</td>\n",
       "      <td>10-19y</td>\n",
       "      <td>none</td>\n",
       "      <td>working class</td>\n",
       "      <td>0.388366</td>\n",
       "      <td>1</td>\n",
       "      <td>0</td>\n",
       "      <td>0</td>\n",
       "      <td>32765</td>\n",
       "      <td>12000.0</td>\n",
       "      <td>sedan</td>\n",
       "      <td>2</td>\n",
       "      <td>0</td>\n",
       "      <td>1</td>\n",
       "      <td>1</td>\n",
       "    </tr>\n",
       "    <tr>\n",
       "      <th>...</th>\n",
       "      <td>...</td>\n",
       "      <td>...</td>\n",
       "      <td>...</td>\n",
       "      <td>...</td>\n",
       "      <td>...</td>\n",
       "      <td>...</td>\n",
       "      <td>...</td>\n",
       "      <td>...</td>\n",
       "      <td>...</td>\n",
       "      <td>...</td>\n",
       "      <td>...</td>\n",
       "      <td>...</td>\n",
       "      <td>...</td>\n",
       "      <td>...</td>\n",
       "      <td>...</td>\n",
       "      <td>...</td>\n",
       "      <td>...</td>\n",
       "    </tr>\n",
       "    <tr>\n",
       "      <th>9995</th>\n",
       "      <td>323164</td>\n",
       "      <td>26-39</td>\n",
       "      <td>female</td>\n",
       "      <td>10-19y</td>\n",
       "      <td>university</td>\n",
       "      <td>upper class</td>\n",
       "      <td>0.582787</td>\n",
       "      <td>1</td>\n",
       "      <td>0</td>\n",
       "      <td>0</td>\n",
       "      <td>10238</td>\n",
       "      <td>16000.0</td>\n",
       "      <td>sedan</td>\n",
       "      <td>0</td>\n",
       "      <td>0</td>\n",
       "      <td>1</td>\n",
       "      <td>0</td>\n",
       "    </tr>\n",
       "    <tr>\n",
       "      <th>9996</th>\n",
       "      <td>910346</td>\n",
       "      <td>26-39</td>\n",
       "      <td>female</td>\n",
       "      <td>10-19y</td>\n",
       "      <td>none</td>\n",
       "      <td>middle class</td>\n",
       "      <td>0.522231</td>\n",
       "      <td>1</td>\n",
       "      <td>0</td>\n",
       "      <td>1</td>\n",
       "      <td>32765</td>\n",
       "      <td>NaN</td>\n",
       "      <td>sedan</td>\n",
       "      <td>1</td>\n",
       "      <td>0</td>\n",
       "      <td>0</td>\n",
       "      <td>0</td>\n",
       "    </tr>\n",
       "    <tr>\n",
       "      <th>9997</th>\n",
       "      <td>468409</td>\n",
       "      <td>26-39</td>\n",
       "      <td>male</td>\n",
       "      <td>0-9y</td>\n",
       "      <td>high school</td>\n",
       "      <td>middle class</td>\n",
       "      <td>0.470940</td>\n",
       "      <td>1</td>\n",
       "      <td>0</td>\n",
       "      <td>1</td>\n",
       "      <td>10238</td>\n",
       "      <td>14000.0</td>\n",
       "      <td>sedan</td>\n",
       "      <td>0</td>\n",
       "      <td>0</td>\n",
       "      <td>0</td>\n",
       "      <td>0</td>\n",
       "    </tr>\n",
       "    <tr>\n",
       "      <th>9998</th>\n",
       "      <td>903459</td>\n",
       "      <td>26-39</td>\n",
       "      <td>female</td>\n",
       "      <td>10-19y</td>\n",
       "      <td>high school</td>\n",
       "      <td>poverty</td>\n",
       "      <td>0.364185</td>\n",
       "      <td>0</td>\n",
       "      <td>0</td>\n",
       "      <td>1</td>\n",
       "      <td>10238</td>\n",
       "      <td>13000.0</td>\n",
       "      <td>sedan</td>\n",
       "      <td>2</td>\n",
       "      <td>0</td>\n",
       "      <td>1</td>\n",
       "      <td>1</td>\n",
       "    </tr>\n",
       "    <tr>\n",
       "      <th>9999</th>\n",
       "      <td>442696</td>\n",
       "      <td>26-39</td>\n",
       "      <td>female</td>\n",
       "      <td>0-9y</td>\n",
       "      <td>none</td>\n",
       "      <td>working class</td>\n",
       "      <td>0.435225</td>\n",
       "      <td>1</td>\n",
       "      <td>1</td>\n",
       "      <td>1</td>\n",
       "      <td>10238</td>\n",
       "      <td>13000.0</td>\n",
       "      <td>sedan</td>\n",
       "      <td>0</td>\n",
       "      <td>0</td>\n",
       "      <td>0</td>\n",
       "      <td>0</td>\n",
       "    </tr>\n",
       "  </tbody>\n",
       "</table>\n",
       "<p>10000 rows × 17 columns</p>\n",
       "</div>"
      ],
      "text/plain": [
       "          ID    AGE  GENDER DRIVING_EXPERIENCE    EDUCATION         INCOME  \\\n",
       "0     569520    65+  female               0-9y  high school    upper class   \n",
       "1     750365  16-25    male               0-9y         none        poverty   \n",
       "2     199901  16-25  female               0-9y  high school  working class   \n",
       "3     478866  16-25    male               0-9y   university  working class   \n",
       "4     731664  26-39    male             10-19y         none  working class   \n",
       "...      ...    ...     ...                ...          ...            ...   \n",
       "9995  323164  26-39  female             10-19y   university    upper class   \n",
       "9996  910346  26-39  female             10-19y         none   middle class   \n",
       "9997  468409  26-39    male               0-9y  high school   middle class   \n",
       "9998  903459  26-39  female             10-19y  high school        poverty   \n",
       "9999  442696  26-39  female               0-9y         none  working class   \n",
       "\n",
       "      CREDIT_SCORE  VEHICLE_OWNERSHIP  MARRIED  CHILDREN  POSTAL_CODE  \\\n",
       "0         0.629027                  1        0         1        10238   \n",
       "1         0.357757                  0        0         0        10238   \n",
       "2         0.493146                  1        0         0        10238   \n",
       "3         0.206013                  1        0         1        32765   \n",
       "4         0.388366                  1        0         0        32765   \n",
       "...            ...                ...      ...       ...          ...   \n",
       "9995      0.582787                  1        0         0        10238   \n",
       "9996      0.522231                  1        0         1        32765   \n",
       "9997      0.470940                  1        0         1        10238   \n",
       "9998      0.364185                  0        0         1        10238   \n",
       "9999      0.435225                  1        1         1        10238   \n",
       "\n",
       "      ANNUAL_MILEAGE VEHICLE_TYPE  SPEEDING_VIOLATIONS  DUIS  PAST_ACCIDENTS  \\\n",
       "0            12000.0        sedan                    0     0               0   \n",
       "1            16000.0        sedan                    0     0               0   \n",
       "2            11000.0        sedan                    0     0               0   \n",
       "3            11000.0        sedan                    0     0               0   \n",
       "4            12000.0        sedan                    2     0               1   \n",
       "...              ...          ...                  ...   ...             ...   \n",
       "9995         16000.0        sedan                    0     0               1   \n",
       "9996             NaN        sedan                    1     0               0   \n",
       "9997         14000.0        sedan                    0     0               0   \n",
       "9998         13000.0        sedan                    2     0               1   \n",
       "9999         13000.0        sedan                    0     0               0   \n",
       "\n",
       "      OUTCOME  \n",
       "0           0  \n",
       "1           1  \n",
       "2           0  \n",
       "3           0  \n",
       "4           1  \n",
       "...       ...  \n",
       "9995        0  \n",
       "9996        0  \n",
       "9997        0  \n",
       "9998        1  \n",
       "9999        0  \n",
       "\n",
       "[10000 rows x 17 columns]"
      ]
     },
     "execution_count": 2,
     "metadata": {},
     "output_type": "execute_result"
    }
   ],
   "source": [
    "#import Dataset\n",
    "df = pd.read_csv(\"C:/Users/Dell/Downloads/car_insurance.csv\")\n",
    "df"
   ]
  },
  {
   "cell_type": "code",
   "execution_count": 3,
   "id": "14b70ebb",
   "metadata": {},
   "outputs": [
    {
     "name": "stdout",
     "output_type": "stream",
     "text": [
      "Index(['ID', 'AGE', 'GENDER', 'DRIVING_EXPERIENCE', 'EDUCATION', 'INCOME',\n",
      "       'CREDIT_SCORE', 'VEHICLE_OWNERSHIP', 'MARRIED', 'CHILDREN',\n",
      "       'POSTAL_CODE', 'ANNUAL_MILEAGE', 'VEHICLE_TYPE', 'SPEEDING_VIOLATIONS',\n",
      "       'DUIS', 'PAST_ACCIDENTS', 'OUTCOME'],\n",
      "      dtype='object')\n"
     ]
    }
   ],
   "source": [
    "print(df.columns)"
   ]
  },
  {
   "cell_type": "code",
   "execution_count": 4,
   "id": "49ac2275",
   "metadata": {},
   "outputs": [
    {
     "name": "stdout",
     "output_type": "stream",
     "text": [
      "<class 'pandas.core.frame.DataFrame'>\n",
      "RangeIndex: 10000 entries, 0 to 9999\n",
      "Data columns (total 17 columns):\n",
      " #   Column               Non-Null Count  Dtype  \n",
      "---  ------               --------------  -----  \n",
      " 0   ID                   10000 non-null  int64  \n",
      " 1   AGE                  10000 non-null  object \n",
      " 2   GENDER               10000 non-null  object \n",
      " 3   DRIVING_EXPERIENCE   10000 non-null  object \n",
      " 4   EDUCATION            10000 non-null  object \n",
      " 5   INCOME               10000 non-null  object \n",
      " 6   CREDIT_SCORE         9018 non-null   float64\n",
      " 7   VEHICLE_OWNERSHIP    10000 non-null  int64  \n",
      " 8   MARRIED              10000 non-null  int64  \n",
      " 9   CHILDREN             10000 non-null  int64  \n",
      " 10  POSTAL_CODE          10000 non-null  int64  \n",
      " 11  ANNUAL_MILEAGE       9043 non-null   float64\n",
      " 12  VEHICLE_TYPE         10000 non-null  object \n",
      " 13  SPEEDING_VIOLATIONS  10000 non-null  int64  \n",
      " 14  DUIS                 10000 non-null  int64  \n",
      " 15  PAST_ACCIDENTS       10000 non-null  int64  \n",
      " 16  OUTCOME              10000 non-null  int64  \n",
      "dtypes: float64(2), int64(9), object(6)\n",
      "memory usage: 1.3+ MB\n",
      "None\n"
     ]
    }
   ],
   "source": [
    "print(df.info())"
   ]
  },
  {
   "cell_type": "code",
   "execution_count": 5,
   "id": "8d5205e2",
   "metadata": {},
   "outputs": [
    {
     "data": {
      "text/plain": [
       "ID                       0\n",
       "AGE                      0\n",
       "GENDER                   0\n",
       "DRIVING_EXPERIENCE       0\n",
       "EDUCATION                0\n",
       "INCOME                   0\n",
       "CREDIT_SCORE           982\n",
       "VEHICLE_OWNERSHIP        0\n",
       "MARRIED                  0\n",
       "CHILDREN                 0\n",
       "POSTAL_CODE              0\n",
       "ANNUAL_MILEAGE         957\n",
       "VEHICLE_TYPE             0\n",
       "SPEEDING_VIOLATIONS      0\n",
       "DUIS                     0\n",
       "PAST_ACCIDENTS           0\n",
       "OUTCOME                  0\n",
       "dtype: int64"
      ]
     },
     "execution_count": 5,
     "metadata": {},
     "output_type": "execute_result"
    }
   ],
   "source": [
    "df.isnull ()\n",
    "df.isnull().sum()"
   ]
  },
  {
   "cell_type": "code",
   "execution_count": 6,
   "id": "9444b08f",
   "metadata": {},
   "outputs": [
    {
     "name": "stdout",
     "output_type": "stream",
     "text": [
      "Number of entries: 10000\n"
     ]
    }
   ],
   "source": [
    "#number of entries\n",
    "num_entries = df.shape[0]\n",
    "# Print the number of entries\n",
    "print(\"Number of entries:\", num_entries)"
   ]
  },
  {
   "cell_type": "code",
   "execution_count": 7,
   "id": "4637640e",
   "metadata": {},
   "outputs": [],
   "source": [
    "import pandas as pd\n",
    "from sklearn.impute import KNNImputer\n",
    "\n",
    "columns_to_fill = ['CREDIT_SCORE', 'ANNUAL_MILEAGE']\n",
    "\n",
    "# Create an instance of the KNNImputer with k=3\n",
    "imputer = KNNImputer(n_neighbors=3)\n",
    "\n",
    "# Fill the missing values using KNN imputer\n",
    "df[columns_to_fill] = imputer.fit_transform(df[columns_to_fill])"
   ]
  },
  {
   "cell_type": "code",
   "execution_count": 8,
   "id": "a99ec7df",
   "metadata": {},
   "outputs": [],
   "source": [
    "df.drop(['ID','POSTAL_CODE','EDUCATION'], axis=1, inplace=True)"
   ]
  },
  {
   "cell_type": "code",
   "execution_count": 9,
   "id": "fe0bae04",
   "metadata": {},
   "outputs": [],
   "source": [
    "df['INCOME'] = df['INCOME'].replace({'upper class': 0, 'working class': 1 ,'poverty': 2})"
   ]
  },
  {
   "cell_type": "code",
   "execution_count": 10,
   "id": "a305712d",
   "metadata": {},
   "outputs": [
    {
     "data": {
      "text/plain": [
       "AGE                      int32\n",
       "GENDER                   int32\n",
       "DRIVING_EXPERIENCE       int32\n",
       "INCOME                   int32\n",
       "CREDIT_SCORE           float64\n",
       "VEHICLE_OWNERSHIP        int64\n",
       "MARRIED                  int64\n",
       "CHILDREN                 int64\n",
       "ANNUAL_MILEAGE         float64\n",
       "VEHICLE_TYPE             int32\n",
       "SPEEDING_VIOLATIONS      int64\n",
       "DUIS                     int64\n",
       "PAST_ACCIDENTS           int64\n",
       "OUTCOME                  int64\n",
       "dtype: object"
      ]
     },
     "execution_count": 10,
     "metadata": {},
     "output_type": "execute_result"
    }
   ],
   "source": [
    "from sklearn.preprocessing import LabelEncoder\n",
    "\n",
    "for column in df.columns:\n",
    "    if df[column].dtype == 'object':\n",
    "        label_encoder = LabelEncoder()\n",
    "        df[column] = label_encoder.fit_transform(df[column].astype(str))\n",
    "\n",
    "df.dtypes "
   ]
  },
  {
   "cell_type": "code",
   "execution_count": 11,
   "id": "5b36957f",
   "metadata": {},
   "outputs": [],
   "source": [
    "df.to_csv('CAR-cleaned.csv', index=False)"
   ]
  },
  {
   "cell_type": "markdown",
   "id": "2ac19cb1",
   "metadata": {},
   "source": [
    "## Logistic Regression"
   ]
  },
  {
   "cell_type": "code",
   "execution_count": 12,
   "id": "27c7c28e",
   "metadata": {},
   "outputs": [
    {
     "name": "stderr",
     "output_type": "stream",
     "text": [
      "C:\\Users\\Dell\\anaconda3\\lib\\site-packages\\sklearn\\utils\\validation.py:1143: DataConversionWarning: A column-vector y was passed when a 1d array was expected. Please change the shape of y to (n_samples, ), for example using ravel().\n",
      "  y = column_or_1d(y, warn=True)\n"
     ]
    },
    {
     "name": "stdout",
     "output_type": "stream",
     "text": [
      "Classification Report:\n",
      "              precision    recall  f1-score   support\n",
      "\n",
      "           0       0.82      0.88      0.85      1367\n",
      "           1       0.69      0.58      0.63       633\n",
      "\n",
      "    accuracy                           0.79      2000\n",
      "   macro avg       0.76      0.73      0.74      2000\n",
      "weighted avg       0.78      0.79      0.78      2000\n",
      "\n",
      "Confusion Matrix:\n",
      "[[1204  163]\n",
      " [ 266  367]]\n"
     ]
    },
    {
     "data": {
      "image/png": "[encoded data removed]",
      "text/plain": [
       "<Figure size 576x432 with 2 Axes>"
      ]
     },
     "metadata": {
      "needs_background": "light"
     },
     "output_type": "display_data"
    },
    {
     "data": {
      "image/png": "[encoded data removed]",
      "text/plain": [
       "<Figure size 576x432 with 1 Axes>"
      ]
     },
     "metadata": {
      "needs_background": "light"
     },
     "output_type": "display_data"
    }
   ],
   "source": [
    "import pandas as pd\n",
    "import matplotlib.pyplot as plt\n",
    "import seaborn as sns\n",
    "from sklearn.model_selection import train_test_split\n",
    "from sklearn.linear_model import LogisticRegression\n",
    "from sklearn.metrics import confusion_matrix, roc_curve, roc_auc_score,classification_report\n",
    "\n",
    "\n",
    "# Prepare the data\n",
    "y = df[['OUTCOME']]\n",
    "X = df.drop(['OUTCOME'],axis=1)\n",
    "\n",
    "# Split the data into training and testing sets\n",
    "X_train, X_test, y_train, y_test = train_test_split(X, y, test_size=0.2, random_state=42)\n",
    "\n",
    "# Create and fit the Logistic Regression model\n",
    "model = LogisticRegression()\n",
    "model.fit(X_train, y_train)\n",
    "\n",
    "# Make predictions\n",
    "y_pred = model.predict(X_test)\n",
    "\n",
    "# Create a confusion matrix\n",
    "confusion = confusion_matrix(y_test, y_pred)\n",
    "\n",
    "classification_rep = classification_report(y_test, y_pred)\n",
    "print(\"Classification Report:\")\n",
    "print(classification_rep)\n",
    "\n",
    "confusion_mat = confusion_matrix(y_test, y_pred)\n",
    "print(\"Confusion Matrix:\")\n",
    "print(confusion_mat)\n",
    "\n",
    "\n",
    "# Plot the confusion matrix\n",
    "plt.figure(figsize=(8, 6))\n",
    "sns.heatmap(confusion, annot=True, fmt=\".0f\", cmap='Blues')\n",
    "plt.xlabel('Predicted')\n",
    "plt.ylabel('Actual')\n",
    "plt.title('Confusion Matrix - Logistic Regression')\n",
    "plt.show()\n",
    "\n",
    "# Calculate the probabilities for the positive class\n",
    "y_pred_proba = model.predict_proba(X_test)[:, 1]\n",
    "\n",
    "# Calculate the ROC curve\n",
    "fpr, tpr, thresholds = roc_curve(y_test, y_pred_proba)\n",
    "\n",
    "# Calculate the AUC score\n",
    "roc_auc = roc_auc_score(y_test, y_pred_proba)\n",
    "\n",
    "# Plot the ROC curve\n",
    "plt.figure(figsize=(8, 6))\n",
    "plt.plot(fpr, tpr, label='Logistic Regression (AUC = {:.2f})'.format(roc_auc))\n",
    "plt.plot([0, 1], [0, 1], 'k--')\n",
    "plt.xlabel('False Positive Rate')\n",
    "plt.ylabel('True Positive Rate')\n",
    "plt.title('Receiver Operating Characteristic - Logistic Regression')\n",
    "plt.legend(loc='lower right')\n",
    "plt.show()"
   ]
  },
  {
   "cell_type": "code",
   "execution_count": 13,
   "id": "55aff65f",
   "metadata": {
    "scrolled": false
   },
   "outputs": [
    {
     "name": "stdout",
     "output_type": "stream",
     "text": [
      "                            OLS Regression Results                            \n",
      "==============================================================================\n",
      "Dep. Variable:                OUTCOME   R-squared:                       0.360\n",
      "Model:                            OLS   Adj. R-squared:                  0.359\n",
      "Method:                 Least Squares   F-statistic:                     432.3\n",
      "Date:                Fri, 30 Jun 2023   Prob (F-statistic):               0.00\n",
      "Time:                        02:17:59   Log-Likelihood:                -4275.0\n",
      "No. Observations:               10000   AIC:                             8578.\n",
      "Df Residuals:                    9986   BIC:                             8679.\n",
      "Df Model:                          13                                         \n",
      "Covariance Type:            nonrobust                                         \n",
      "=======================================================================================\n",
      "                          coef    std err          t      P>|t|      [0.025      0.975]\n",
      "---------------------------------------------------------------------------------------\n",
      "const                   0.7593      0.030     25.268      0.000       0.700       0.818\n",
      "AGE                    -0.0276      0.006     -4.633      0.000      -0.039      -0.016\n",
      "GENDER                  0.1066      0.008     13.271      0.000       0.091       0.122\n",
      "DRIVING_EXPERIENCE     -0.1604      0.007    -22.835      0.000      -0.174      -0.147\n",
      "INCOME                 -0.0035      0.004     -0.981      0.327      -0.011       0.004\n",
      "CREDIT_SCORE           -0.1739      0.033     -5.250      0.000      -0.239      -0.109\n",
      "VEHICLE_OWNERSHIP      -0.2628      0.009    -30.583      0.000      -0.280      -0.246\n",
      "MARRIED                -0.0582      0.009     -6.632      0.000      -0.075      -0.041\n",
      "CHILDREN               -0.0386      0.009     -4.137      0.000      -0.057      -0.020\n",
      "ANNUAL_MILEAGE       4.509e-06   1.68e-06      2.681      0.007    1.21e-06     7.8e-06\n",
      "VEHICLE_TYPE            0.0061      0.017      0.349      0.727      -0.028       0.040\n",
      "SPEEDING_VIOLATIONS     0.0055      0.002      2.380      0.017       0.001       0.010\n",
      "DUIS                   -0.0003      0.007     -0.041      0.967      -0.015       0.014\n",
      "PAST_ACCIDENTS         -0.0143      0.003     -4.849      0.000      -0.020      -0.009\n",
      "==============================================================================\n",
      "Omnibus:                      470.804   Durbin-Watson:                   2.030\n",
      "Prob(Omnibus):                  0.000   Jarque-Bera (JB):              308.971\n",
      "Skew:                           0.311   Prob(JB):                     8.09e-68\n",
      "Kurtosis:                       2.404   Cond. No.                     1.26e+05\n",
      "==============================================================================\n",
      "\n",
      "Notes:\n",
      "[1] Standard Errors assume that the covariance matrix of the errors is correctly specified.\n",
      "[2] The condition number is large, 1.26e+05. This might indicate that there are\n",
      "strong multicollinearity or other numerical problems.\n",
      "const: 0.7592778413544156\n",
      "AGE: -0.027607472485741552\n",
      "GENDER: 0.10655521839275789\n",
      "DRIVING_EXPERIENCE: -0.16042259620736413\n",
      "INCOME: -0.0035110627284402813\n",
      "CREDIT_SCORE: -0.17390188889316519\n",
      "VEHICLE_OWNERSHIP: -0.2627809650589067\n",
      "MARRIED: -0.058180762123491186\n",
      "CHILDREN: -0.038622873593317016\n",
      "ANNUAL_MILEAGE: 4.508562576957944e-06\n",
      "VEHICLE_TYPE: 0.006080662643841054\n",
      "SPEEDING_VIOLATIONS: 0.005534225557530497\n",
      "DUIS: -0.00030483673599975046\n",
      "PAST_ACCIDENTS: -0.014319527021467864\n"
     ]
    },
    {
     "name": "stderr",
     "output_type": "stream",
     "text": [
      "C:\\Users\\Dell\\anaconda3\\lib\\site-packages\\statsmodels\\tsa\\tsatools.py:142: FutureWarning: In a future version of pandas all arguments of concat except for the argument 'objs' will be keyword-only\n",
      "  x = pd.concat(x[::order], 1)\n"
     ]
    }
   ],
   "source": [
    "import statsmodels.api as sm\n",
    "\n",
    "# Step 2: Prepare the data\n",
    "X = df.drop(columns=['OUTCOME'])\n",
    "y = df['OUTCOME']\n",
    "\n",
    "# Step 3: Add a constant term to the independent variable matrix\n",
    "X = sm.add_constant(X)\n",
    "\n",
    "# Step 4: Fit the OLS model\n",
    "model = sm.OLS(y, X)\n",
    "results = model.fit()\n",
    "\n",
    "# Step 5: Print the OLS report\n",
    "print(results.summary())\n",
    "\n",
    "# Get the feature variables and their coefficients\n",
    "feature_variables = X.columns.tolist()\n",
    "coefficients = results.params.tolist()\n",
    "\n",
    "# Print the feature variables and their coefficients\n",
    "for variable, coefficient in zip(feature_variables, coefficients):\n",
    "    print(f\"{variable}: {coefficient}\")"
   ]
  },
  {
   "cell_type": "markdown",
   "id": "30cea5ed",
   "metadata": {},
   "source": [
    "## Gradient Boosting Model"
   ]
  },
  {
   "cell_type": "code",
   "execution_count": 14,
   "id": "59374311",
   "metadata": {},
   "outputs": [
    {
     "name": "stdout",
     "output_type": "stream",
     "text": [
      "Gradient Boosting Classifier Accuracy: 0.7995\n",
      "Confusion Matrix:\n",
      "[[1199  168]\n",
      " [ 233  400]]\n"
     ]
    },
    {
     "data": {
      "image/png": "[encoded data removed]",
      "text/plain": [
       "<Figure size 432x288 with 2 Axes>"
      ]
     },
     "metadata": {
      "needs_background": "light"
     },
     "output_type": "display_data"
    },
    {
     "name": "stdout",
     "output_type": "stream",
     "text": [
      "ROC AUC Score: 0.7545073389798581\n"
     ]
    },
    {
     "data": {
      "image/png": "[encoded data removed]",
      "text/plain": [
       "<Figure size 432x288 with 1 Axes>"
      ]
     },
     "metadata": {
      "needs_background": "light"
     },
     "output_type": "display_data"
    },
    {
     "name": "stdout",
     "output_type": "stream",
     "text": [
      "Classification Report:\n",
      "              precision    recall  f1-score   support\n",
      "\n",
      "           0       0.84      0.88      0.86      1367\n",
      "           1       0.70      0.63      0.67       633\n",
      "\n",
      "    accuracy                           0.80      2000\n",
      "   macro avg       0.77      0.75      0.76      2000\n",
      "weighted avg       0.80      0.80      0.80      2000\n",
      "\n"
     ]
    }
   ],
   "source": [
    "import pandas as pd\n",
    "from sklearn.ensemble import GradientBoostingClassifier\n",
    "from sklearn.model_selection import train_test_split\n",
    "from sklearn.metrics import accuracy_score, confusion_matrix, classification_report, roc_auc_score,roc_curve\n",
    "\n",
    "\n",
    "# Prepare the data\n",
    "X = df.drop('OUTCOME', axis=1)\n",
    "y = df['OUTCOME']\n",
    "\n",
    "# Split the data into training and testing sets\n",
    "X_train, X_test, y_train, y_test = train_test_split(X, y, test_size=0.2, random_state=42)\n",
    "\n",
    "# Create and fit the Gradient Boosting Classifier\n",
    "gb_model = GradientBoostingClassifier(n_estimators=1000, random_state=42)\n",
    "gb_model.fit(X_train, y_train)\n",
    "\n",
    "# Predict on the test set using the Gradient Boosting Classifier\n",
    "gb_predictions = gb_model.predict(X_test)\n",
    "\n",
    "# Calculate accuracy of the Gradient Boosting Classifier\n",
    "gb_accuracy = accuracy_score(y_test, gb_predictions)\n",
    "print(\"Gradient Boosting Classifier Accuracy:\", gb_accuracy)\n",
    "\n",
    "confusion_mat = confusion_matrix(y_test, gb_predictions)\n",
    "print(\"Confusion Matrix:\")\n",
    "print(confusion_mat)\n",
    "\n",
    "sns.heatmap(confusion_mat, annot=True, cmap='Blues', fmt='d')\n",
    "plt.title(\"Confusion Matrix\")\n",
    "plt.xlabel(\"Predicted Class\")\n",
    "plt.ylabel(\"True Class\")\n",
    "plt.show()\n",
    "\n",
    "# Calculate the ROC AUC score\n",
    "roc_auc = roc_auc_score(y_test, gb_predictions)\n",
    "print(\"ROC AUC Score:\", roc_auc)\n",
    "\n",
    "# Get the false positive rate, true positive rate, and thresholds\n",
    "fpr, tpr, thresholds = roc_curve(y_test, gb_predictions)\n",
    "\n",
    "# Plot the ROC curve\n",
    "plt.plot(fpr, tpr, label='ROC Curve (area = %0.2f)' % roc_auc)\n",
    "plt.plot([0, 1], [0, 1], 'k--')\n",
    "plt.xlim([0.0, 1.0])\n",
    "plt.ylim([0.0, 1.05])\n",
    "plt.xlabel('False Positive Rate')\n",
    "plt.ylabel('True Positive Rate')\n",
    "plt.title('Receiver Operating Characteristic (ROC)')\n",
    "plt.legend(loc=\"lower right\")\n",
    "plt.show()\n",
    "\n",
    "# Generate the classification report\n",
    "classification_rep = classification_report(y_test, gb_predictions)\n",
    "print(\"Classification Report:\")\n",
    "print(classification_rep)"
   ]
  },
  {
   "cell_type": "markdown",
   "id": "1ef9dd6b",
   "metadata": {},
   "source": [
    "## Random Forest Model"
   ]
  },
  {
   "cell_type": "code",
   "execution_count": 15,
   "id": "54511ee6",
   "metadata": {},
   "outputs": [
    {
     "name": "stdout",
     "output_type": "stream",
     "text": [
      "Random Forest Classifier Accuracy: 0.7865\n",
      "Confusion Matrix:\n",
      "[[1194  173]\n",
      " [ 254  379]]\n"
     ]
    },
    {
     "data": {
      "image/png": "[encoded data removed]",
      "text/plain": [
       "<Figure size 432x288 with 2 Axes>"
      ]
     },
     "metadata": {
      "needs_background": "light"
     },
     "output_type": "display_data"
    },
    {
     "name": "stdout",
     "output_type": "stream",
     "text": [
      "ROC AUC Score: 0.7360908390162612\n"
     ]
    },
    {
     "data": {
      "image/png": "[encoded data removed]",
      "text/plain": [
       "<Figure size 432x288 with 1 Axes>"
      ]
     },
     "metadata": {
      "needs_background": "light"
     },
     "output_type": "display_data"
    },
    {
     "name": "stdout",
     "output_type": "stream",
     "text": [
      "Classification Report:\n",
      "              precision    recall  f1-score   support\n",
      "\n",
      "           0       0.82      0.87      0.85      1367\n",
      "           1       0.69      0.60      0.64       633\n",
      "\n",
      "    accuracy                           0.79      2000\n",
      "   macro avg       0.76      0.74      0.74      2000\n",
      "weighted avg       0.78      0.79      0.78      2000\n",
      "\n"
     ]
    }
   ],
   "source": [
    "import pandas as pd\n",
    "import matplotlib.pyplot as plt\n",
    "import seaborn as sns\n",
    "from sklearn.ensemble import RandomForestClassifier\n",
    "from sklearn.model_selection import train_test_split\n",
    "from sklearn.metrics import accuracy_score, confusion_matrix, classification_report, roc_auc_score, roc_curve\n",
    "\n",
    "# Prepare the data\n",
    "X = df.drop('OUTCOME', axis=1)\n",
    "y = df['OUTCOME']\n",
    "\n",
    "# Split the data into training and testing sets\n",
    "X_train, X_test, y_train, y_test = train_test_split(X, y, test_size=0.2, random_state=42)\n",
    "\n",
    "# Create and fit the Random Forest Classifier\n",
    "rf_model = RandomForestClassifier(n_estimators=1000, random_state=42)\n",
    "rf_model.fit(X_train, y_train)\n",
    "\n",
    "# Predict on the test set using the Random Forest Classifier\n",
    "rf_predictions = rf_model.predict(X_test)\n",
    "\n",
    "# Calculate accuracy of the Random Forest Classifier\n",
    "rf_accuracy = accuracy_score(y_test, rf_predictions)\n",
    "print(\"Random Forest Classifier Accuracy:\", rf_accuracy)\n",
    "\n",
    "# Calculate the confusion matrix\n",
    "confusion_mat = confusion_matrix(y_test, rf_predictions)\n",
    "print(\"Confusion Matrix:\")\n",
    "print(confusion_mat)\n",
    "\n",
    "# Plot the confusion matrix\n",
    "sns.heatmap(confusion_mat, annot=True, cmap='Blues', fmt='d')\n",
    "plt.title(\"Confusion Matrix\")\n",
    "plt.xlabel(\"Predicted Class\")\n",
    "plt.ylabel(\"True Class\")\n",
    "plt.show()\n",
    "\n",
    "# Calculate the ROC AUC score\n",
    "roc_auc = roc_auc_score(y_test, rf_predictions)\n",
    "print(\"ROC AUC Score:\", roc_auc)\n",
    "\n",
    "# Get the false positive rate, true positive rate, and thresholds\n",
    "fpr, tpr, thresholds = roc_curve(y_test, rf_predictions)\n",
    "\n",
    "# Plot the ROC curve\n",
    "plt.plot(fpr, tpr, label='ROC Curve (area = %0.2f)' % roc_auc)\n",
    "plt.plot([0, 1], [0, 1], 'k--')\n",
    "plt.xlim([0.0, 1.0])\n",
    "plt.ylim([0.0, 1.05])\n",
    "plt.xlabel('False Positive Rate')\n",
    "plt.ylabel('True Positive Rate')\n",
    "plt.title('Receiver Operating Characteristic (ROC)')\n",
    "plt.legend(loc=\"lower right\")\n",
    "plt.show()\n",
    "\n",
    "# Generate the classification report\n",
    "classification_rep = classification_report(y_test, rf_predictions)\n",
    "print(\"Classification Report:\")\n",
    "print(classification_rep) "
   ]
  },
  {
   "cell_type": "markdown",
   "id": "5af6644a",
   "metadata": {},
   "source": [
    "## Model Comparision "
   ]
  },
  {
   "cell_type": "code",
   "execution_count": 16,
   "id": "b601b3d7",
   "metadata": {},
   "outputs": [
    {
     "name": "stdout",
     "output_type": "stream",
     "text": [
      "Logistic Regression Accuracy: 0.7855\n",
      "Gradient Boosting Accuracy: 0.7995\n",
      "Random Forest Accuracy: 0.7865\n"
     ]
    },
    {
     "data": {
      "image/png": "[encoded data removed]",
      "text/plain": [
       "<Figure size 576x432 with 1 Axes>"
      ]
     },
     "metadata": {
      "needs_background": "light"
     },
     "output_type": "display_data"
    }
   ],
   "source": [
    "import pandas as pd\n",
    "import matplotlib.pyplot as plt\n",
    "from sklearn.ensemble import GradientBoostingClassifier, RandomForestClassifier\n",
    "from sklearn.model_selection import train_test_split\n",
    "from sklearn.metrics import accuracy_score\n",
    "\n",
    "# Prepare the data\n",
    "X = df.drop('OUTCOME', axis=1)\n",
    "y = df['OUTCOME']\n",
    "\n",
    "# Split the data into training and testing sets\n",
    "X_train, X_test, y_train, y_test = train_test_split(X, y, test_size=0.2, random_state=42)\n",
    "\n",
    "# Create and fit the models\n",
    "models = {\n",
    "    'Logistic Regression': LogisticRegression(),\n",
    "    'Gradient Boosting': GradientBoostingClassifier(n_estimators=1000, random_state=42),\n",
    "    'Random Forest': RandomForestClassifier(n_estimators=1000, random_state=42)\n",
    "}\n",
    "\n",
    "accuracies = []\n",
    "\n",
    "# Train and evaluate the models\n",
    "for name, model in models.items():\n",
    "    model.fit(X_train, y_train)\n",
    "    predictions = model.predict(X_test)\n",
    "    accuracy = accuracy_score(y_test, predictions)\n",
    "    accuracies.append(accuracy)\n",
    "    print(f\"{name} Accuracy: {accuracy}\")\n",
    "\n",
    "# Create a bar chart to compare accuracies\n",
    "plt.figure(figsize=(8, 6))\n",
    "plt.bar(models.keys(), accuracies)\n",
    "plt.xlabel('Models')\n",
    "plt.ylabel('Accuracy')\n",
    "plt.title('Accuracy Comparison of Different Models')\n",
    "plt.ylim(0.0, 1.0)\n",
    "\n",
    "# Add a legend\n",
    "plt.legend(accuracies)\n",
    "\n",
    "plt.show()"
   ]
  }
 ],
 "metadata": {
  "kernelspec": {
   "display_name": "Python 3 (ipykernel)",
   "language": "python",
   "name": "python3"
  },
  "language_info": {
   "codemirror_mode": {
    "name": "ipython",
    "version": 3
   },
   "file_extension": ".py",
   "mimetype": "text/x-python",
   "name": "python",
   "nbconvert_exporter": "python",
   "pygments_lexer": "ipython3",
   "version": "3.9.7"
  }
 },
 "nbformat": 4,
 "nbformat_minor": 5
}
